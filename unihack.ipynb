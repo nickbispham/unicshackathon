{
 "cells": [
  {
   "cell_type": "code",
   "execution_count": 1,
   "metadata": {
    "executionInfo": {
     "elapsed": 680,
     "status": "ok",
     "timestamp": 1638034267319,
     "user": {
      "displayName": "Nick InsertNameHere",
      "photoUrl": "https://lh3.googleusercontent.com/a/default-user=s64",
      "userId": "07704760538173627033"
     },
     "user_tz": 0
    },
    "id": "I8VtJlr2DLH6"
   },
   "outputs": [],
   "source": [
    "#Importing required packages.\n",
    "import pandas as pd\n",
    "import seaborn as sns\n",
    "import matplotlib.pyplot as plt\n",
    "from sklearn.ensemble import RandomForestClassifier\n",
    "from sklearn.svm import SVC\n",
    "#from sklearn.linear_model import SGDClassifier\n",
    "from sklearn.metrics import confusion_matrix, classification_report\n",
    "from sklearn.preprocessing import StandardScaler, LabelEncoder\n",
    "from sklearn.model_selection import train_test_split\n",
    "%matplotlib inline"
   ]
  },
  {
   "cell_type": "code",
   "execution_count": 2,
   "metadata": {
    "colab": {
     "base_uri": "https://localhost:8080/",
     "height": 206
    },
    "executionInfo": {
     "elapsed": 353,
     "status": "ok",
     "timestamp": 1638034268180,
     "user": {
      "displayName": "Nick InsertNameHere",
      "photoUrl": "https://lh3.googleusercontent.com/a/default-user=s64",
      "userId": "07704760538173627033"
     },
     "user_tz": 0
    },
    "id": "09yMxAJwVnO0",
    "outputId": "2891039f-a1fa-4e75-b2fb-ff19466c1e38",
    "scrolled": true
   },
   "outputs": [
    {
     "data": {
      "text/html": [
       "<div>\n",
       "<style scoped>\n",
       "    .dataframe tbody tr th:only-of-type {\n",
       "        vertical-align: middle;\n",
       "    }\n",
       "\n",
       "    .dataframe tbody tr th {\n",
       "        vertical-align: top;\n",
       "    }\n",
       "\n",
       "    .dataframe thead th {\n",
       "        text-align: right;\n",
       "    }\n",
       "</style>\n",
       "<table border=\"1\" class=\"dataframe\">\n",
       "  <thead>\n",
       "    <tr style=\"text-align: right;\">\n",
       "      <th></th>\n",
       "      <th>Unnamed: 0</th>\n",
       "      <th>Booking Number</th>\n",
       "      <th>Price</th>\n",
       "      <th>Origin Lat</th>\n",
       "      <th>Origin Lon</th>\n",
       "      <th>Dest Lat</th>\n",
       "      <th>Dest Lon</th>\n",
       "      <th>Wait</th>\n",
       "      <th>Distance</th>\n",
       "      <th>Transport</th>\n",
       "      <th>Day</th>\n",
       "      <th>Date</th>\n",
       "      <th>Month</th>\n",
       "      <th>Year</th>\n",
       "      <th>Hour</th>\n",
       "      <th>Haul</th>\n",
       "      <th>Time Taken</th>\n",
       "    </tr>\n",
       "  </thead>\n",
       "  <tbody>\n",
       "    <tr>\n",
       "      <th>0</th>\n",
       "      <td>0</td>\n",
       "      <td>AJ13943</td>\n",
       "      <td>204.07</td>\n",
       "      <td>28.429399</td>\n",
       "      <td>-81.308998</td>\n",
       "      <td>40.639801</td>\n",
       "      <td>-73.778900</td>\n",
       "      <td>180</td>\n",
       "      <td>2500</td>\n",
       "      <td>1</td>\n",
       "      <td>3</td>\n",
       "      <td>6</td>\n",
       "      <td>2</td>\n",
       "      <td>2019</td>\n",
       "      <td>1</td>\n",
       "      <td>0</td>\n",
       "      <td>188</td>\n",
       "    </tr>\n",
       "    <tr>\n",
       "      <th>1</th>\n",
       "      <td>1</td>\n",
       "      <td>AJ80110</td>\n",
       "      <td>854.84</td>\n",
       "      <td>45.470600</td>\n",
       "      <td>-73.740799</td>\n",
       "      <td>-33.946098</td>\n",
       "      <td>151.177002</td>\n",
       "      <td>210</td>\n",
       "      <td>100</td>\n",
       "      <td>0</td>\n",
       "      <td>4</td>\n",
       "      <td>24</td>\n",
       "      <td>12</td>\n",
       "      <td>2020</td>\n",
       "      <td>1</td>\n",
       "      <td>2</td>\n",
       "      <td>212</td>\n",
       "    </tr>\n",
       "    <tr>\n",
       "      <th>2</th>\n",
       "      <td>2</td>\n",
       "      <td>AJ65702</td>\n",
       "      <td>166.47</td>\n",
       "      <td>45.470600</td>\n",
       "      <td>-73.740799</td>\n",
       "      <td>40.639801</td>\n",
       "      <td>-73.778900</td>\n",
       "      <td>180</td>\n",
       "      <td>2500</td>\n",
       "      <td>1</td>\n",
       "      <td>2</td>\n",
       "      <td>24</td>\n",
       "      <td>11</td>\n",
       "      <td>2020</td>\n",
       "      <td>1</td>\n",
       "      <td>0</td>\n",
       "      <td>188</td>\n",
       "    </tr>\n",
       "    <tr>\n",
       "      <th>3</th>\n",
       "      <td>3</td>\n",
       "      <td>RY00938</td>\n",
       "      <td>2129.89</td>\n",
       "      <td>-33.946098</td>\n",
       "      <td>151.177002</td>\n",
       "      <td>49.193901</td>\n",
       "      <td>-123.183998</td>\n",
       "      <td>60</td>\n",
       "      <td>3400</td>\n",
       "      <td>0</td>\n",
       "      <td>2</td>\n",
       "      <td>6</td>\n",
       "      <td>8</td>\n",
       "      <td>2019</td>\n",
       "      <td>1</td>\n",
       "      <td>2</td>\n",
       "      <td>115</td>\n",
       "    </tr>\n",
       "    <tr>\n",
       "      <th>4</th>\n",
       "      <td>4</td>\n",
       "      <td>RY83421</td>\n",
       "      <td>374.55</td>\n",
       "      <td>-33.946098</td>\n",
       "      <td>151.177002</td>\n",
       "      <td>53.353699</td>\n",
       "      <td>-2.274950</td>\n",
       "      <td>180</td>\n",
       "      <td>1000</td>\n",
       "      <td>0</td>\n",
       "      <td>7</td>\n",
       "      <td>29</td>\n",
       "      <td>11</td>\n",
       "      <td>2020</td>\n",
       "      <td>1</td>\n",
       "      <td>2</td>\n",
       "      <td>196</td>\n",
       "    </tr>\n",
       "    <tr>\n",
       "      <th>5</th>\n",
       "      <td>5</td>\n",
       "      <td>VA09719</td>\n",
       "      <td>2348.47</td>\n",
       "      <td>45.470600</td>\n",
       "      <td>-73.740799</td>\n",
       "      <td>-33.946098</td>\n",
       "      <td>151.177002</td>\n",
       "      <td>390</td>\n",
       "      <td>100</td>\n",
       "      <td>0</td>\n",
       "      <td>6</td>\n",
       "      <td>11</td>\n",
       "      <td>1</td>\n",
       "      <td>2020</td>\n",
       "      <td>1</td>\n",
       "      <td>2</td>\n",
       "      <td>392</td>\n",
       "    </tr>\n",
       "    <tr>\n",
       "      <th>6</th>\n",
       "      <td>6</td>\n",
       "      <td>AA33777</td>\n",
       "      <td>848.60</td>\n",
       "      <td>51.470600</td>\n",
       "      <td>-0.461941</td>\n",
       "      <td>49.193901</td>\n",
       "      <td>-123.183998</td>\n",
       "      <td>60</td>\n",
       "      <td>3400</td>\n",
       "      <td>0</td>\n",
       "      <td>3</td>\n",
       "      <td>26</td>\n",
       "      <td>6</td>\n",
       "      <td>2019</td>\n",
       "      <td>1</td>\n",
       "      <td>2</td>\n",
       "      <td>116</td>\n",
       "    </tr>\n",
       "    <tr>\n",
       "      <th>7</th>\n",
       "      <td>7</td>\n",
       "      <td>AJ39289</td>\n",
       "      <td>1813.30</td>\n",
       "      <td>45.470600</td>\n",
       "      <td>-73.740799</td>\n",
       "      <td>-33.946098</td>\n",
       "      <td>151.177002</td>\n",
       "      <td>210</td>\n",
       "      <td>100</td>\n",
       "      <td>0</td>\n",
       "      <td>1</td>\n",
       "      <td>26</td>\n",
       "      <td>10</td>\n",
       "      <td>2020</td>\n",
       "      <td>1</td>\n",
       "      <td>2</td>\n",
       "      <td>212</td>\n",
       "    </tr>\n",
       "    <tr>\n",
       "      <th>8</th>\n",
       "      <td>8</td>\n",
       "      <td>AA72990</td>\n",
       "      <td>1558.65</td>\n",
       "      <td>51.470600</td>\n",
       "      <td>-0.461941</td>\n",
       "      <td>-33.946098</td>\n",
       "      <td>151.177002</td>\n",
       "      <td>390</td>\n",
       "      <td>100</td>\n",
       "      <td>0</td>\n",
       "      <td>6</td>\n",
       "      <td>5</td>\n",
       "      <td>12</td>\n",
       "      <td>2020</td>\n",
       "      <td>1</td>\n",
       "      <td>2</td>\n",
       "      <td>392</td>\n",
       "    </tr>\n",
       "    <tr>\n",
       "      <th>9</th>\n",
       "      <td>9</td>\n",
       "      <td>AA19087</td>\n",
       "      <td>826.64</td>\n",
       "      <td>40.639801</td>\n",
       "      <td>-73.778900</td>\n",
       "      <td>51.470600</td>\n",
       "      <td>-0.461941</td>\n",
       "      <td>240</td>\n",
       "      <td>800</td>\n",
       "      <td>1</td>\n",
       "      <td>5</td>\n",
       "      <td>25</td>\n",
       "      <td>12</td>\n",
       "      <td>2020</td>\n",
       "      <td>1</td>\n",
       "      <td>1</td>\n",
       "      <td>242</td>\n",
       "    </tr>\n",
       "  </tbody>\n",
       "</table>\n",
       "</div>"
      ],
      "text/plain": [
       "   Unnamed: 0 Booking Number    Price  Origin Lat  Origin Lon   Dest Lat  \\\n",
       "0           0        AJ13943   204.07   28.429399  -81.308998  40.639801   \n",
       "1           1        AJ80110   854.84   45.470600  -73.740799 -33.946098   \n",
       "2           2        AJ65702   166.47   45.470600  -73.740799  40.639801   \n",
       "3           3        RY00938  2129.89  -33.946098  151.177002  49.193901   \n",
       "4           4        RY83421   374.55  -33.946098  151.177002  53.353699   \n",
       "5           5        VA09719  2348.47   45.470600  -73.740799 -33.946098   \n",
       "6           6        AA33777   848.60   51.470600   -0.461941  49.193901   \n",
       "7           7        AJ39289  1813.30   45.470600  -73.740799 -33.946098   \n",
       "8           8        AA72990  1558.65   51.470600   -0.461941 -33.946098   \n",
       "9           9        AA19087   826.64   40.639801  -73.778900  51.470600   \n",
       "\n",
       "     Dest Lon  Wait  Distance  Transport  Day  Date  Month  Year  Hour  Haul  \\\n",
       "0  -73.778900   180      2500          1    3     6      2  2019     1     0   \n",
       "1  151.177002   210       100          0    4    24     12  2020     1     2   \n",
       "2  -73.778900   180      2500          1    2    24     11  2020     1     0   \n",
       "3 -123.183998    60      3400          0    2     6      8  2019     1     2   \n",
       "4   -2.274950   180      1000          0    7    29     11  2020     1     2   \n",
       "5  151.177002   390       100          0    6    11      1  2020     1     2   \n",
       "6 -123.183998    60      3400          0    3    26      6  2019     1     2   \n",
       "7  151.177002   210       100          0    1    26     10  2020     1     2   \n",
       "8  151.177002   390       100          0    6     5     12  2020     1     2   \n",
       "9   -0.461941   240       800          1    5    25     12  2020     1     1   \n",
       "\n",
       "   Time Taken  \n",
       "0         188  \n",
       "1         212  \n",
       "2         188  \n",
       "3         115  \n",
       "4         196  \n",
       "5         392  \n",
       "6         116  \n",
       "7         212  \n",
       "8         392  \n",
       "9         242  "
      ]
     },
     "execution_count": 2,
     "metadata": {},
     "output_type": "execute_result"
    }
   ],
   "source": [
    "rental_data = pd.read_csv(\"car_rental_large.csv\",low_memory=False)\n",
    "rental_data.head(10)"
   ]
  },
  {
   "cell_type": "code",
   "execution_count": 3,
   "metadata": {
    "colab": {
     "base_uri": "https://localhost:8080/"
    },
    "executionInfo": {
     "elapsed": 8,
     "status": "ok",
     "timestamp": 1638034268182,
     "user": {
      "displayName": "Nick InsertNameHere",
      "photoUrl": "https://lh3.googleusercontent.com/a/default-user=s64",
      "userId": "07704760538173627033"
     },
     "user_tz": 0
    },
    "id": "QL_dAeQ4HVBO",
    "outputId": "1e8b57b8-30d1-487b-fe02-0a78dd095113"
   },
   "outputs": [
    {
     "data": {
      "text/plain": [
       " 49.193901    25106\n",
       " 51.470600    25095\n",
       " 28.429399    25067\n",
       " 53.630402    25058\n",
       " 45.470600    25001\n",
       " 53.353699    24961\n",
       " 40.639801    24937\n",
       "-33.946098    24775\n",
       "Name: Origin Lat, dtype: int64"
      ]
     },
     "execution_count": 3,
     "metadata": {},
     "output_type": "execute_result"
    }
   ],
   "source": [
    "rental_data['Origin Lat'].value_counts()"
   ]
  },
  {
   "cell_type": "code",
   "execution_count": 4,
   "metadata": {
    "colab": {
     "base_uri": "https://localhost:8080/"
    },
    "executionInfo": {
     "elapsed": 7,
     "status": "ok",
     "timestamp": 1638034268183,
     "user": {
      "displayName": "Nick InsertNameHere",
      "photoUrl": "https://lh3.googleusercontent.com/a/default-user=s64",
      "userId": "07704760538173627033"
     },
     "user_tz": 0
    },
    "id": "brhDRyTmHfKZ",
    "outputId": "7b19f7e1-5286-4942-8b24-8cf318df1acb",
    "scrolled": true
   },
   "outputs": [
    {
     "data": {
      "text/plain": [
       " 53.353699    25233\n",
       " 49.193901    25121\n",
       "-33.946098    25027\n",
       " 45.470600    25006\n",
       " 53.630402    24993\n",
       " 40.639801    24912\n",
       " 28.429399    24910\n",
       " 51.470600    24798\n",
       "Name: Dest Lat, dtype: int64"
      ]
     },
     "execution_count": 4,
     "metadata": {},
     "output_type": "execute_result"
    }
   ],
   "source": [
    "rental_data['Dest Lat'].value_counts()"
   ]
  },
  {
   "cell_type": "code",
   "execution_count": 5,
   "metadata": {},
   "outputs": [],
   "source": [
    "rental_data['Car Wait'] = rental_data['Wait'] - rental_data['Time Taken']"
   ]
  },
  {
   "cell_type": "code",
   "execution_count": 6,
   "metadata": {
    "executionInfo": {
     "elapsed": 660,
     "status": "ok",
     "timestamp": 1638034268837,
     "user": {
      "displayName": "Nick InsertNameHere",
      "photoUrl": "https://lh3.googleusercontent.com/a/default-user=s64",
      "userId": "07704760538173627033"
     },
     "user_tz": 0
    },
    "id": "WrMjHeFjH-BD"
   },
   "outputs": [],
   "source": [
    "from math import isclose\n",
    "def getID(x):\n",
    "    if(isclose(x, 53.630402, abs_tol=0.001)):\n",
    "        return 0\n",
    "    if(isclose(x, 49.193901, abs_tol=0.001)):\n",
    "        return 1\n",
    "    if(isclose(x, -33.946098, abs_tol=0.001)):\n",
    "        return 2\n",
    "    if(isclose(x, 45.470600, abs_tol=0.001)):\n",
    "        return 3\n",
    "    if(isclose(x, 40.639801, abs_tol=0.001)):\n",
    "        return 4\n",
    "    if(isclose(x, 28.429399, abs_tol=0.001)):\n",
    "        return 5\n",
    "    if(isclose(x, 53.353699, abs_tol=0.001)):\n",
    "        return 6\n",
    "    if(isclose(x, 51.470600, abs_tol=0.001)):\n",
    "        return 7\n",
    "    return -1\n",
    "rental_data['OriginID'] = rental_data['Origin Lat'].apply(getID)\n",
    "rental_data['DestID'] = rental_data['Dest Lat'].apply(getID)"
   ]
  },
  {
   "cell_type": "code",
   "execution_count": 7,
   "metadata": {},
   "outputs": [],
   "source": [
    "from math import sin, cos, sqrt, atan2, radians\n",
    "for index, row in rental_data.iterrows():\n",
    "    \n",
    "    \n",
    "    \n",
    "    R = 6373.0\n",
    "\n",
    "    lat1 = radians(row['Origin Lat'])\n",
    "    lon1 = radians(row['Origin Lon'])\n",
    "    lat2 = radians(row['Dest Lat'])\n",
    "    lon2 = radians(row['Dest Lon'])\n",
    "\n",
    "    dlon = lon2 - lon1\n",
    "    dlat = lat2 - lat1\n",
    "\n",
    "    a = sin(dlat / 2)**2 + cos(lat1) * cos(lat2) * sin(dlon / 2)**2\n",
    "    c = 2 * atan2(sqrt(a), sqrt(1 - a))\n",
    "\n",
    "    distance = R * c\n",
    "    rental_data.at[index,'Flight Distance'] = distance"
   ]
  },
  {
   "cell_type": "code",
   "execution_count": 8,
   "metadata": {
    "scrolled": false
   },
   "outputs": [
    {
     "data": {
      "text/html": [
       "<div>\n",
       "<style scoped>\n",
       "    .dataframe tbody tr th:only-of-type {\n",
       "        vertical-align: middle;\n",
       "    }\n",
       "\n",
       "    .dataframe tbody tr th {\n",
       "        vertical-align: top;\n",
       "    }\n",
       "\n",
       "    .dataframe thead th {\n",
       "        text-align: right;\n",
       "    }\n",
       "</style>\n",
       "<table border=\"1\" class=\"dataframe\">\n",
       "  <thead>\n",
       "    <tr style=\"text-align: right;\">\n",
       "      <th></th>\n",
       "      <th>Unnamed: 0</th>\n",
       "      <th>Booking Number</th>\n",
       "      <th>Price</th>\n",
       "      <th>Origin Lat</th>\n",
       "      <th>Origin Lon</th>\n",
       "      <th>Dest Lat</th>\n",
       "      <th>Dest Lon</th>\n",
       "      <th>Wait</th>\n",
       "      <th>Distance</th>\n",
       "      <th>Transport</th>\n",
       "      <th>...</th>\n",
       "      <th>Date</th>\n",
       "      <th>Month</th>\n",
       "      <th>Year</th>\n",
       "      <th>Hour</th>\n",
       "      <th>Haul</th>\n",
       "      <th>Time Taken</th>\n",
       "      <th>Car Wait</th>\n",
       "      <th>OriginID</th>\n",
       "      <th>DestID</th>\n",
       "      <th>Flight Distance</th>\n",
       "    </tr>\n",
       "  </thead>\n",
       "  <tbody>\n",
       "    <tr>\n",
       "      <th>0</th>\n",
       "      <td>0</td>\n",
       "      <td>AJ13943</td>\n",
       "      <td>204.07</td>\n",
       "      <td>28.429399</td>\n",
       "      <td>-81.308998</td>\n",
       "      <td>40.639801</td>\n",
       "      <td>-73.778900</td>\n",
       "      <td>180</td>\n",
       "      <td>2500</td>\n",
       "      <td>1</td>\n",
       "      <td>...</td>\n",
       "      <td>6</td>\n",
       "      <td>2</td>\n",
       "      <td>2019</td>\n",
       "      <td>1</td>\n",
       "      <td>0</td>\n",
       "      <td>188</td>\n",
       "      <td>-8</td>\n",
       "      <td>5</td>\n",
       "      <td>4</td>\n",
       "      <td>1521.866215</td>\n",
       "    </tr>\n",
       "    <tr>\n",
       "      <th>1</th>\n",
       "      <td>1</td>\n",
       "      <td>AJ80110</td>\n",
       "      <td>854.84</td>\n",
       "      <td>45.470600</td>\n",
       "      <td>-73.740799</td>\n",
       "      <td>-33.946098</td>\n",
       "      <td>151.177002</td>\n",
       "      <td>210</td>\n",
       "      <td>100</td>\n",
       "      <td>0</td>\n",
       "      <td>...</td>\n",
       "      <td>24</td>\n",
       "      <td>12</td>\n",
       "      <td>2020</td>\n",
       "      <td>1</td>\n",
       "      <td>2</td>\n",
       "      <td>212</td>\n",
       "      <td>-2</td>\n",
       "      <td>3</td>\n",
       "      <td>2</td>\n",
       "      <td>16028.177679</td>\n",
       "    </tr>\n",
       "    <tr>\n",
       "      <th>2</th>\n",
       "      <td>2</td>\n",
       "      <td>AJ65702</td>\n",
       "      <td>166.47</td>\n",
       "      <td>45.470600</td>\n",
       "      <td>-73.740799</td>\n",
       "      <td>40.639801</td>\n",
       "      <td>-73.778900</td>\n",
       "      <td>180</td>\n",
       "      <td>2500</td>\n",
       "      <td>1</td>\n",
       "      <td>...</td>\n",
       "      <td>24</td>\n",
       "      <td>11</td>\n",
       "      <td>2020</td>\n",
       "      <td>1</td>\n",
       "      <td>0</td>\n",
       "      <td>188</td>\n",
       "      <td>-8</td>\n",
       "      <td>3</td>\n",
       "      <td>4</td>\n",
       "      <td>537.337885</td>\n",
       "    </tr>\n",
       "    <tr>\n",
       "      <th>3</th>\n",
       "      <td>3</td>\n",
       "      <td>RY00938</td>\n",
       "      <td>2129.89</td>\n",
       "      <td>-33.946098</td>\n",
       "      <td>151.177002</td>\n",
       "      <td>49.193901</td>\n",
       "      <td>-123.183998</td>\n",
       "      <td>60</td>\n",
       "      <td>3400</td>\n",
       "      <td>0</td>\n",
       "      <td>...</td>\n",
       "      <td>6</td>\n",
       "      <td>8</td>\n",
       "      <td>2019</td>\n",
       "      <td>1</td>\n",
       "      <td>2</td>\n",
       "      <td>115</td>\n",
       "      <td>-55</td>\n",
       "      <td>2</td>\n",
       "      <td>1</td>\n",
       "      <td>12504.876464</td>\n",
       "    </tr>\n",
       "    <tr>\n",
       "      <th>4</th>\n",
       "      <td>4</td>\n",
       "      <td>RY83421</td>\n",
       "      <td>374.55</td>\n",
       "      <td>-33.946098</td>\n",
       "      <td>151.177002</td>\n",
       "      <td>53.353699</td>\n",
       "      <td>-2.274950</td>\n",
       "      <td>180</td>\n",
       "      <td>1000</td>\n",
       "      <td>0</td>\n",
       "      <td>...</td>\n",
       "      <td>29</td>\n",
       "      <td>11</td>\n",
       "      <td>2020</td>\n",
       "      <td>1</td>\n",
       "      <td>2</td>\n",
       "      <td>196</td>\n",
       "      <td>-16</td>\n",
       "      <td>2</td>\n",
       "      <td>6</td>\n",
       "      <td>17017.658942</td>\n",
       "    </tr>\n",
       "  </tbody>\n",
       "</table>\n",
       "<p>5 rows × 21 columns</p>\n",
       "</div>"
      ],
      "text/plain": [
       "   Unnamed: 0 Booking Number    Price  Origin Lat  Origin Lon   Dest Lat  \\\n",
       "0           0        AJ13943   204.07   28.429399  -81.308998  40.639801   \n",
       "1           1        AJ80110   854.84   45.470600  -73.740799 -33.946098   \n",
       "2           2        AJ65702   166.47   45.470600  -73.740799  40.639801   \n",
       "3           3        RY00938  2129.89  -33.946098  151.177002  49.193901   \n",
       "4           4        RY83421   374.55  -33.946098  151.177002  53.353699   \n",
       "\n",
       "     Dest Lon  Wait  Distance  Transport  ...  Date  Month  Year  Hour  Haul  \\\n",
       "0  -73.778900   180      2500          1  ...     6      2  2019     1     0   \n",
       "1  151.177002   210       100          0  ...    24     12  2020     1     2   \n",
       "2  -73.778900   180      2500          1  ...    24     11  2020     1     0   \n",
       "3 -123.183998    60      3400          0  ...     6      8  2019     1     2   \n",
       "4   -2.274950   180      1000          0  ...    29     11  2020     1     2   \n",
       "\n",
       "   Time Taken  Car Wait  OriginID  DestID  Flight Distance  \n",
       "0         188        -8         5       4      1521.866215  \n",
       "1         212        -2         3       2     16028.177679  \n",
       "2         188        -8         3       4       537.337885  \n",
       "3         115       -55         2       1     12504.876464  \n",
       "4         196       -16         2       6     17017.658942  \n",
       "\n",
       "[5 rows x 21 columns]"
      ]
     },
     "execution_count": 8,
     "metadata": {},
     "output_type": "execute_result"
    }
   ],
   "source": [
    "rental_data.head()"
   ]
  },
  {
   "cell_type": "code",
   "execution_count": 9,
   "metadata": {
    "colab": {
     "base_uri": "https://localhost:8080/",
     "height": 363
    },
    "executionInfo": {
     "elapsed": 15,
     "status": "ok",
     "timestamp": 1638034268838,
     "user": {
      "displayName": "Nick InsertNameHere",
      "photoUrl": "https://lh3.googleusercontent.com/a/default-user=s64",
      "userId": "07704760538173627033"
     },
     "user_tz": 0
    },
    "id": "o6xOgIGrDcTp",
    "outputId": "79db57de-d5b4-43d8-e0c4-a1fa30769651"
   },
   "outputs": [
    {
     "data": {
      "text/html": [
       "<div>\n",
       "<style scoped>\n",
       "    .dataframe tbody tr th:only-of-type {\n",
       "        vertical-align: middle;\n",
       "    }\n",
       "\n",
       "    .dataframe tbody tr th {\n",
       "        vertical-align: top;\n",
       "    }\n",
       "\n",
       "    .dataframe thead th {\n",
       "        text-align: right;\n",
       "    }\n",
       "</style>\n",
       "<table border=\"1\" class=\"dataframe\">\n",
       "  <thead>\n",
       "    <tr style=\"text-align: right;\">\n",
       "      <th></th>\n",
       "      <th>Unnamed: 0</th>\n",
       "      <th>Booking Number</th>\n",
       "      <th>Price</th>\n",
       "      <th>Origin Lat</th>\n",
       "      <th>Origin Lon</th>\n",
       "      <th>Dest Lat</th>\n",
       "      <th>Dest Lon</th>\n",
       "      <th>Wait</th>\n",
       "      <th>Distance</th>\n",
       "      <th>Transport</th>\n",
       "      <th>...</th>\n",
       "      <th>Date</th>\n",
       "      <th>Month</th>\n",
       "      <th>Year</th>\n",
       "      <th>Hour</th>\n",
       "      <th>Haul</th>\n",
       "      <th>Time Taken</th>\n",
       "      <th>Car Wait</th>\n",
       "      <th>OriginID</th>\n",
       "      <th>DestID</th>\n",
       "      <th>Flight Distance</th>\n",
       "    </tr>\n",
       "  </thead>\n",
       "  <tbody>\n",
       "    <tr>\n",
       "      <th>0</th>\n",
       "      <td>0</td>\n",
       "      <td>AJ13943</td>\n",
       "      <td>204.07</td>\n",
       "      <td>28.429399</td>\n",
       "      <td>-81.308998</td>\n",
       "      <td>40.639801</td>\n",
       "      <td>-73.778900</td>\n",
       "      <td>180</td>\n",
       "      <td>2500</td>\n",
       "      <td>1</td>\n",
       "      <td>...</td>\n",
       "      <td>6</td>\n",
       "      <td>2</td>\n",
       "      <td>2019</td>\n",
       "      <td>1</td>\n",
       "      <td>0</td>\n",
       "      <td>188</td>\n",
       "      <td>-8</td>\n",
       "      <td>5</td>\n",
       "      <td>4</td>\n",
       "      <td>1521.866215</td>\n",
       "    </tr>\n",
       "    <tr>\n",
       "      <th>1</th>\n",
       "      <td>1</td>\n",
       "      <td>AJ80110</td>\n",
       "      <td>854.84</td>\n",
       "      <td>45.470600</td>\n",
       "      <td>-73.740799</td>\n",
       "      <td>-33.946098</td>\n",
       "      <td>151.177002</td>\n",
       "      <td>210</td>\n",
       "      <td>100</td>\n",
       "      <td>0</td>\n",
       "      <td>...</td>\n",
       "      <td>24</td>\n",
       "      <td>12</td>\n",
       "      <td>2020</td>\n",
       "      <td>1</td>\n",
       "      <td>2</td>\n",
       "      <td>212</td>\n",
       "      <td>-2</td>\n",
       "      <td>3</td>\n",
       "      <td>2</td>\n",
       "      <td>16028.177679</td>\n",
       "    </tr>\n",
       "    <tr>\n",
       "      <th>2</th>\n",
       "      <td>2</td>\n",
       "      <td>AJ65702</td>\n",
       "      <td>166.47</td>\n",
       "      <td>45.470600</td>\n",
       "      <td>-73.740799</td>\n",
       "      <td>40.639801</td>\n",
       "      <td>-73.778900</td>\n",
       "      <td>180</td>\n",
       "      <td>2500</td>\n",
       "      <td>1</td>\n",
       "      <td>...</td>\n",
       "      <td>24</td>\n",
       "      <td>11</td>\n",
       "      <td>2020</td>\n",
       "      <td>1</td>\n",
       "      <td>0</td>\n",
       "      <td>188</td>\n",
       "      <td>-8</td>\n",
       "      <td>3</td>\n",
       "      <td>4</td>\n",
       "      <td>537.337885</td>\n",
       "    </tr>\n",
       "    <tr>\n",
       "      <th>3</th>\n",
       "      <td>3</td>\n",
       "      <td>RY00938</td>\n",
       "      <td>2129.89</td>\n",
       "      <td>-33.946098</td>\n",
       "      <td>151.177002</td>\n",
       "      <td>49.193901</td>\n",
       "      <td>-123.183998</td>\n",
       "      <td>60</td>\n",
       "      <td>3400</td>\n",
       "      <td>0</td>\n",
       "      <td>...</td>\n",
       "      <td>6</td>\n",
       "      <td>8</td>\n",
       "      <td>2019</td>\n",
       "      <td>1</td>\n",
       "      <td>2</td>\n",
       "      <td>115</td>\n",
       "      <td>-55</td>\n",
       "      <td>2</td>\n",
       "      <td>1</td>\n",
       "      <td>12504.876464</td>\n",
       "    </tr>\n",
       "    <tr>\n",
       "      <th>4</th>\n",
       "      <td>4</td>\n",
       "      <td>RY83421</td>\n",
       "      <td>374.55</td>\n",
       "      <td>-33.946098</td>\n",
       "      <td>151.177002</td>\n",
       "      <td>53.353699</td>\n",
       "      <td>-2.274950</td>\n",
       "      <td>180</td>\n",
       "      <td>1000</td>\n",
       "      <td>0</td>\n",
       "      <td>...</td>\n",
       "      <td>29</td>\n",
       "      <td>11</td>\n",
       "      <td>2020</td>\n",
       "      <td>1</td>\n",
       "      <td>2</td>\n",
       "      <td>196</td>\n",
       "      <td>-16</td>\n",
       "      <td>2</td>\n",
       "      <td>6</td>\n",
       "      <td>17017.658942</td>\n",
       "    </tr>\n",
       "    <tr>\n",
       "      <th>5</th>\n",
       "      <td>5</td>\n",
       "      <td>VA09719</td>\n",
       "      <td>2348.47</td>\n",
       "      <td>45.470600</td>\n",
       "      <td>-73.740799</td>\n",
       "      <td>-33.946098</td>\n",
       "      <td>151.177002</td>\n",
       "      <td>390</td>\n",
       "      <td>100</td>\n",
       "      <td>0</td>\n",
       "      <td>...</td>\n",
       "      <td>11</td>\n",
       "      <td>1</td>\n",
       "      <td>2020</td>\n",
       "      <td>1</td>\n",
       "      <td>2</td>\n",
       "      <td>392</td>\n",
       "      <td>-2</td>\n",
       "      <td>3</td>\n",
       "      <td>2</td>\n",
       "      <td>16028.177679</td>\n",
       "    </tr>\n",
       "    <tr>\n",
       "      <th>6</th>\n",
       "      <td>6</td>\n",
       "      <td>AA33777</td>\n",
       "      <td>848.60</td>\n",
       "      <td>51.470600</td>\n",
       "      <td>-0.461941</td>\n",
       "      <td>49.193901</td>\n",
       "      <td>-123.183998</td>\n",
       "      <td>60</td>\n",
       "      <td>3400</td>\n",
       "      <td>0</td>\n",
       "      <td>...</td>\n",
       "      <td>26</td>\n",
       "      <td>6</td>\n",
       "      <td>2019</td>\n",
       "      <td>1</td>\n",
       "      <td>2</td>\n",
       "      <td>116</td>\n",
       "      <td>-56</td>\n",
       "      <td>7</td>\n",
       "      <td>1</td>\n",
       "      <td>7580.963373</td>\n",
       "    </tr>\n",
       "    <tr>\n",
       "      <th>7</th>\n",
       "      <td>7</td>\n",
       "      <td>AJ39289</td>\n",
       "      <td>1813.30</td>\n",
       "      <td>45.470600</td>\n",
       "      <td>-73.740799</td>\n",
       "      <td>-33.946098</td>\n",
       "      <td>151.177002</td>\n",
       "      <td>210</td>\n",
       "      <td>100</td>\n",
       "      <td>0</td>\n",
       "      <td>...</td>\n",
       "      <td>26</td>\n",
       "      <td>10</td>\n",
       "      <td>2020</td>\n",
       "      <td>1</td>\n",
       "      <td>2</td>\n",
       "      <td>212</td>\n",
       "      <td>-2</td>\n",
       "      <td>3</td>\n",
       "      <td>2</td>\n",
       "      <td>16028.177679</td>\n",
       "    </tr>\n",
       "    <tr>\n",
       "      <th>8</th>\n",
       "      <td>8</td>\n",
       "      <td>AA72990</td>\n",
       "      <td>1558.65</td>\n",
       "      <td>51.470600</td>\n",
       "      <td>-0.461941</td>\n",
       "      <td>-33.946098</td>\n",
       "      <td>151.177002</td>\n",
       "      <td>390</td>\n",
       "      <td>100</td>\n",
       "      <td>0</td>\n",
       "      <td>...</td>\n",
       "      <td>5</td>\n",
       "      <td>12</td>\n",
       "      <td>2020</td>\n",
       "      <td>1</td>\n",
       "      <td>2</td>\n",
       "      <td>392</td>\n",
       "      <td>-2</td>\n",
       "      <td>7</td>\n",
       "      <td>2</td>\n",
       "      <td>17025.997057</td>\n",
       "    </tr>\n",
       "    <tr>\n",
       "      <th>9</th>\n",
       "      <td>9</td>\n",
       "      <td>AA19087</td>\n",
       "      <td>826.64</td>\n",
       "      <td>40.639801</td>\n",
       "      <td>-73.778900</td>\n",
       "      <td>51.470600</td>\n",
       "      <td>-0.461941</td>\n",
       "      <td>240</td>\n",
       "      <td>800</td>\n",
       "      <td>1</td>\n",
       "      <td>...</td>\n",
       "      <td>25</td>\n",
       "      <td>12</td>\n",
       "      <td>2020</td>\n",
       "      <td>1</td>\n",
       "      <td>1</td>\n",
       "      <td>242</td>\n",
       "      <td>-2</td>\n",
       "      <td>4</td>\n",
       "      <td>7</td>\n",
       "      <td>5541.383076</td>\n",
       "    </tr>\n",
       "  </tbody>\n",
       "</table>\n",
       "<p>10 rows × 21 columns</p>\n",
       "</div>"
      ],
      "text/plain": [
       "   Unnamed: 0 Booking Number    Price  Origin Lat  Origin Lon   Dest Lat  \\\n",
       "0           0        AJ13943   204.07   28.429399  -81.308998  40.639801   \n",
       "1           1        AJ80110   854.84   45.470600  -73.740799 -33.946098   \n",
       "2           2        AJ65702   166.47   45.470600  -73.740799  40.639801   \n",
       "3           3        RY00938  2129.89  -33.946098  151.177002  49.193901   \n",
       "4           4        RY83421   374.55  -33.946098  151.177002  53.353699   \n",
       "5           5        VA09719  2348.47   45.470600  -73.740799 -33.946098   \n",
       "6           6        AA33777   848.60   51.470600   -0.461941  49.193901   \n",
       "7           7        AJ39289  1813.30   45.470600  -73.740799 -33.946098   \n",
       "8           8        AA72990  1558.65   51.470600   -0.461941 -33.946098   \n",
       "9           9        AA19087   826.64   40.639801  -73.778900  51.470600   \n",
       "\n",
       "     Dest Lon  Wait  Distance  Transport  ...  Date  Month  Year  Hour  Haul  \\\n",
       "0  -73.778900   180      2500          1  ...     6      2  2019     1     0   \n",
       "1  151.177002   210       100          0  ...    24     12  2020     1     2   \n",
       "2  -73.778900   180      2500          1  ...    24     11  2020     1     0   \n",
       "3 -123.183998    60      3400          0  ...     6      8  2019     1     2   \n",
       "4   -2.274950   180      1000          0  ...    29     11  2020     1     2   \n",
       "5  151.177002   390       100          0  ...    11      1  2020     1     2   \n",
       "6 -123.183998    60      3400          0  ...    26      6  2019     1     2   \n",
       "7  151.177002   210       100          0  ...    26     10  2020     1     2   \n",
       "8  151.177002   390       100          0  ...     5     12  2020     1     2   \n",
       "9   -0.461941   240       800          1  ...    25     12  2020     1     1   \n",
       "\n",
       "   Time Taken  Car Wait  OriginID  DestID  Flight Distance  \n",
       "0         188        -8         5       4      1521.866215  \n",
       "1         212        -2         3       2     16028.177679  \n",
       "2         188        -8         3       4       537.337885  \n",
       "3         115       -55         2       1     12504.876464  \n",
       "4         196       -16         2       6     17017.658942  \n",
       "5         392        -2         3       2     16028.177679  \n",
       "6         116       -56         7       1      7580.963373  \n",
       "7         212        -2         3       2     16028.177679  \n",
       "8         392        -2         7       2     17025.997057  \n",
       "9         242        -2         4       7      5541.383076  \n",
       "\n",
       "[10 rows x 21 columns]"
      ]
     },
     "execution_count": 9,
     "metadata": {},
     "output_type": "execute_result"
    }
   ],
   "source": [
    "rental_data.head(10)"
   ]
  },
  {
   "cell_type": "code",
   "execution_count": 10,
   "metadata": {
    "executionInfo": {
     "elapsed": 14,
     "status": "ok",
     "timestamp": 1638034268838,
     "user": {
      "displayName": "Nick InsertNameHere",
      "photoUrl": "https://lh3.googleusercontent.com/a/default-user=s64",
      "userId": "07704760538173627033"
     },
     "user_tz": 0
    },
    "id": "YvnZFkweGuOI",
    "scrolled": true
   },
   "outputs": [],
   "source": [
    "X = rental_data[['DestID','Day','Transport','Flight Distance']]\n",
    "y = rental_data['Car Wait']"
   ]
  },
  {
   "cell_type": "code",
   "execution_count": 11,
   "metadata": {
    "colab": {
     "base_uri": "https://localhost:8080/",
     "height": 206
    },
    "executionInfo": {
     "elapsed": 14,
     "status": "ok",
     "timestamp": 1638034268839,
     "user": {
      "displayName": "Nick InsertNameHere",
      "photoUrl": "https://lh3.googleusercontent.com/a/default-user=s64",
      "userId": "07704760538173627033"
     },
     "user_tz": 0
    },
    "id": "E8pq_AvsW8sE",
    "outputId": "e4d48a12-0279-4353-8e76-f23a485eb574",
    "scrolled": true
   },
   "outputs": [
    {
     "data": {
      "text/html": [
       "<div>\n",
       "<style scoped>\n",
       "    .dataframe tbody tr th:only-of-type {\n",
       "        vertical-align: middle;\n",
       "    }\n",
       "\n",
       "    .dataframe tbody tr th {\n",
       "        vertical-align: top;\n",
       "    }\n",
       "\n",
       "    .dataframe thead th {\n",
       "        text-align: right;\n",
       "    }\n",
       "</style>\n",
       "<table border=\"1\" class=\"dataframe\">\n",
       "  <thead>\n",
       "    <tr style=\"text-align: right;\">\n",
       "      <th></th>\n",
       "      <th>DestID</th>\n",
       "      <th>Day</th>\n",
       "      <th>Transport</th>\n",
       "      <th>Flight Distance</th>\n",
       "    </tr>\n",
       "  </thead>\n",
       "  <tbody>\n",
       "    <tr>\n",
       "      <th>0</th>\n",
       "      <td>4</td>\n",
       "      <td>3</td>\n",
       "      <td>1</td>\n",
       "      <td>1521.866215</td>\n",
       "    </tr>\n",
       "    <tr>\n",
       "      <th>1</th>\n",
       "      <td>2</td>\n",
       "      <td>4</td>\n",
       "      <td>0</td>\n",
       "      <td>16028.177679</td>\n",
       "    </tr>\n",
       "    <tr>\n",
       "      <th>2</th>\n",
       "      <td>4</td>\n",
       "      <td>2</td>\n",
       "      <td>1</td>\n",
       "      <td>537.337885</td>\n",
       "    </tr>\n",
       "    <tr>\n",
       "      <th>3</th>\n",
       "      <td>1</td>\n",
       "      <td>2</td>\n",
       "      <td>0</td>\n",
       "      <td>12504.876464</td>\n",
       "    </tr>\n",
       "    <tr>\n",
       "      <th>4</th>\n",
       "      <td>6</td>\n",
       "      <td>7</td>\n",
       "      <td>0</td>\n",
       "      <td>17017.658942</td>\n",
       "    </tr>\n",
       "  </tbody>\n",
       "</table>\n",
       "</div>"
      ],
      "text/plain": [
       "   DestID  Day  Transport  Flight Distance\n",
       "0       4    3          1      1521.866215\n",
       "1       2    4          0     16028.177679\n",
       "2       4    2          1       537.337885\n",
       "3       1    2          0     12504.876464\n",
       "4       6    7          0     17017.658942"
      ]
     },
     "execution_count": 11,
     "metadata": {},
     "output_type": "execute_result"
    }
   ],
   "source": [
    "X.head()"
   ]
  },
  {
   "cell_type": "code",
   "execution_count": 12,
   "metadata": {
    "colab": {
     "base_uri": "https://localhost:8080/"
    },
    "executionInfo": {
     "elapsed": 14,
     "status": "ok",
     "timestamp": 1638034268840,
     "user": {
      "displayName": "Nick InsertNameHere",
      "photoUrl": "https://lh3.googleusercontent.com/a/default-user=s64",
      "userId": "07704760538173627033"
     },
     "user_tz": 0
    },
    "id": "4OjJQdmNXH4r",
    "outputId": "30d097ff-84be-41a5-fcb7-bd023983a803"
   },
   "outputs": [
    {
     "data": {
      "text/plain": [
       "0    -8\n",
       "1    -2\n",
       "2    -8\n",
       "3   -55\n",
       "4   -16\n",
       "Name: Car Wait, dtype: int64"
      ]
     },
     "execution_count": 12,
     "metadata": {},
     "output_type": "execute_result"
    }
   ],
   "source": [
    "y.head()"
   ]
  },
  {
   "cell_type": "code",
   "execution_count": 13,
   "metadata": {
    "executionInfo": {
     "elapsed": 12,
     "status": "ok",
     "timestamp": 1638034268840,
     "user": {
      "displayName": "Nick InsertNameHere",
      "photoUrl": "https://lh3.googleusercontent.com/a/default-user=s64",
      "userId": "07704760538173627033"
     },
     "user_tz": 0
    },
    "id": "LyR2WDctDdZJ"
   },
   "outputs": [],
   "source": [
    "X_train, X_test, y_train, y_test = train_test_split(X, y, test_size = 0.2, random_state = 42)"
   ]
  },
  {
   "cell_type": "code",
   "execution_count": 14,
   "metadata": {
    "colab": {
     "base_uri": "https://localhost:8080/"
    },
    "executionInfo": {
     "elapsed": 13,
     "status": "ok",
     "timestamp": 1638034268841,
     "user": {
      "displayName": "Nick InsertNameHere",
      "photoUrl": "https://lh3.googleusercontent.com/a/default-user=s64",
      "userId": "07704760538173627033"
     },
     "user_tz": 0
    },
    "id": "d1sM4Z9XcdRj",
    "outputId": "2298e7c0-08d9-4a40-fff8-5286b08a10cc"
   },
   "outputs": [
    {
     "name": "stdout",
     "output_type": "stream",
     "text": [
      "0         -8\n",
      "1         -2\n",
      "2         -8\n",
      "3        -55\n",
      "4        -16\n",
      "          ..\n",
      "199995   -14\n",
      "199996    -8\n",
      "199997    -4\n",
      "199998    -2\n",
      "199999    -2\n",
      "Name: Car Wait, Length: 200000, dtype: int64\n"
     ]
    }
   ],
   "source": [
    "print(y)"
   ]
  },
  {
   "cell_type": "code",
   "execution_count": 15,
   "metadata": {
    "executionInfo": {
     "elapsed": 13,
     "status": "ok",
     "timestamp": 1638034268842,
     "user": {
      "displayName": "Nick InsertNameHere",
      "photoUrl": "https://lh3.googleusercontent.com/a/default-user=s64",
      "userId": "07704760538173627033"
     },
     "user_tz": 0
    },
    "id": "00ptBtsibsym",
    "scrolled": true
   },
   "outputs": [],
   "source": [
    "#sc = StandardScaler()\n",
    "#X_train = sc.fit_transform(X_train)\n",
    "#X_test = sc.fit_transform(X_test)"
   ]
  },
  {
   "cell_type": "code",
   "execution_count": 16,
   "metadata": {
    "id": "51tb_NcsbfOn"
   },
   "outputs": [],
   "source": [
    "rfc = RandomForestClassifier(n_estimators=10)\n",
    "rfc.fit(X_train, y_train)\n",
    "pred_rfc = rfc.predict(X_test)"
   ]
  },
  {
   "cell_type": "code",
   "execution_count": 17,
   "metadata": {},
   "outputs": [
    {
     "name": "stdout",
     "output_type": "stream",
     "text": [
      "              precision    recall  f1-score   support\n",
      "\n",
      "         -56       0.00      0.00      0.00       132\n",
      "         -55       0.20      0.19      0.19       287\n",
      "         -54       0.25      0.22      0.23       269\n",
      "         -53       0.20      0.21      0.20       264\n",
      "         -52       0.20      0.41      0.26       256\n",
      "         -51       0.00      0.00      0.00       104\n",
      "         -50       0.00      0.00      0.00        90\n",
      "         -49       0.23      0.11      0.15       206\n",
      "         -48       0.18      0.51      0.27       172\n",
      "         -47       0.26      0.14      0.18       196\n",
      "         -46       0.18      0.27      0.22       195\n",
      "         -45       0.00      0.00      0.00       144\n",
      "         -44       0.00      0.00      0.00        72\n",
      "         -43       0.00      0.00      0.00        60\n",
      "         -42       0.32      0.86      0.47       100\n",
      "         -41       0.24      0.06      0.10       197\n",
      "         -40       0.00      0.00      0.00       116\n",
      "         -39       0.30      0.52      0.38       201\n",
      "         -38       0.29      0.46      0.36       199\n",
      "         -37       0.00      0.00      0.00       267\n",
      "         -36       0.20      0.02      0.03       513\n",
      "         -35       0.29      0.40      0.34       744\n",
      "         -34       0.29      0.58      0.38       707\n",
      "         -33       0.00      0.00      0.00       625\n",
      "         -32       0.29      0.45      0.35       527\n",
      "         -31       0.28      0.50      0.36       534\n",
      "         -30       0.28      0.03      0.06       360\n",
      "         -21       0.48      0.47      0.47       437\n",
      "         -20       0.48      0.49      0.48       439\n",
      "         -19       0.00      0.00      0.00       186\n",
      "         -18       0.59      1.00      0.74       362\n",
      "         -17       0.00      0.00      0.00       450\n",
      "         -16       0.58      1.00      0.74      1113\n",
      "         -15       0.00      0.00      0.00       476\n",
      "         -14       0.72      1.00      0.84       462\n",
      "         -13       0.50      0.33      0.40      1061\n",
      "         -12       0.48      0.53      0.50      1028\n",
      "         -11       0.96      0.97      0.96      3109\n",
      "         -10       0.90      1.00      0.95       839\n",
      "          -8       1.00      1.00      1.00      7414\n",
      "          -7       1.00      0.64      0.78       966\n",
      "          -6       0.81      1.00      0.90      1522\n",
      "          -4       1.00      1.00      1.00      2441\n",
      "          -3       1.00      1.00      1.00      2525\n",
      "          -2       1.00      1.00      1.00      7030\n",
      "          -1       1.00      1.00      1.00       603\n",
      "\n",
      "    accuracy                           0.78     40000\n",
      "   macro avg       0.37      0.42      0.38     40000\n",
      "weighted avg       0.75      0.78      0.76     40000\n",
      "\n"
     ]
    },
    {
     "name": "stderr",
     "output_type": "stream",
     "text": [
      "C:\\Users\\Nick\\anaconda3\\lib\\site-packages\\sklearn\\metrics\\_classification.py:1221: UndefinedMetricWarning: Precision and F-score are ill-defined and being set to 0.0 in labels with no predicted samples. Use `zero_division` parameter to control this behavior.\n",
      "  _warn_prf(average, modifier, msg_start, len(result))\n"
     ]
    }
   ],
   "source": [
    "print(classification_report(y_test, pred_rfc))"
   ]
  },
  {
   "cell_type": "code",
   "execution_count": 18,
   "metadata": {},
   "outputs": [
    {
     "name": "stdout",
     "output_type": "stream",
     "text": [
      "[[   0   29   21 ...    0    0    0]\n",
      " [   0   54   43 ...    0    0    0]\n",
      " [   0   57   59 ...    0    0    0]\n",
      " ...\n",
      " [   0    0    0 ... 2525    0    0]\n",
      " [   0    0    0 ...    0 7030    0]\n",
      " [   0    0    0 ...    0    0  603]]\n"
     ]
    }
   ],
   "source": [
    "print(confusion_matrix(y_test, pred_rfc))"
   ]
  },
  {
   "cell_type": "code",
   "execution_count": 19,
   "metadata": {},
   "outputs": [
    {
     "data": {
      "text/plain": [
       "0.780875"
      ]
     },
     "execution_count": 19,
     "metadata": {},
     "output_type": "execute_result"
    }
   ],
   "source": [
    "from sklearn.metrics import accuracy_score\n",
    "cm = accuracy_score(y_test, pred_rfc)\n",
    "\n",
    "cm"
   ]
  },
  {
   "cell_type": "code",
   "execution_count": 20,
   "metadata": {
    "scrolled": false
   },
   "outputs": [
    {
     "data": {
      "text/html": [
       "<div>\n",
       "<style scoped>\n",
       "    .dataframe tbody tr th:only-of-type {\n",
       "        vertical-align: middle;\n",
       "    }\n",
       "\n",
       "    .dataframe tbody tr th {\n",
       "        vertical-align: top;\n",
       "    }\n",
       "\n",
       "    .dataframe thead th {\n",
       "        text-align: right;\n",
       "    }\n",
       "</style>\n",
       "<table border=\"1\" class=\"dataframe\">\n",
       "  <thead>\n",
       "    <tr style=\"text-align: right;\">\n",
       "      <th></th>\n",
       "      <th>DestID</th>\n",
       "      <th>Day</th>\n",
       "      <th>Transport</th>\n",
       "      <th>Flight Distance</th>\n",
       "    </tr>\n",
       "  </thead>\n",
       "  <tbody>\n",
       "    <tr>\n",
       "      <th>0</th>\n",
       "      <td>4</td>\n",
       "      <td>3</td>\n",
       "      <td>1</td>\n",
       "      <td>1521.866215</td>\n",
       "    </tr>\n",
       "    <tr>\n",
       "      <th>1</th>\n",
       "      <td>2</td>\n",
       "      <td>4</td>\n",
       "      <td>0</td>\n",
       "      <td>16028.177679</td>\n",
       "    </tr>\n",
       "    <tr>\n",
       "      <th>2</th>\n",
       "      <td>4</td>\n",
       "      <td>2</td>\n",
       "      <td>1</td>\n",
       "      <td>537.337885</td>\n",
       "    </tr>\n",
       "    <tr>\n",
       "      <th>3</th>\n",
       "      <td>1</td>\n",
       "      <td>2</td>\n",
       "      <td>0</td>\n",
       "      <td>12504.876464</td>\n",
       "    </tr>\n",
       "    <tr>\n",
       "      <th>4</th>\n",
       "      <td>6</td>\n",
       "      <td>7</td>\n",
       "      <td>0</td>\n",
       "      <td>17017.658942</td>\n",
       "    </tr>\n",
       "  </tbody>\n",
       "</table>\n",
       "</div>"
      ],
      "text/plain": [
       "   DestID  Day  Transport  Flight Distance\n",
       "0       4    3          1      1521.866215\n",
       "1       2    4          0     16028.177679\n",
       "2       4    2          1       537.337885\n",
       "3       1    2          0     12504.876464\n",
       "4       6    7          0     17017.658942"
      ]
     },
     "execution_count": 20,
     "metadata": {},
     "output_type": "execute_result"
    }
   ],
   "source": [
    "X.head()"
   ]
  },
  {
   "cell_type": "code",
   "execution_count": 21,
   "metadata": {},
   "outputs": [
    {
     "data": {
      "text/plain": [
       "0    -8\n",
       "1    -2\n",
       "2    -8\n",
       "3   -55\n",
       "4   -16\n",
       "Name: Car Wait, dtype: int64"
      ]
     },
     "execution_count": 21,
     "metadata": {},
     "output_type": "execute_result"
    }
   ],
   "source": [
    "y.head()"
   ]
  },
  {
   "cell_type": "code",
   "execution_count": 22,
   "metadata": {},
   "outputs": [],
   "source": [
    "#Xnew = [[7,5,1,5,800,0]]\n",
    "#ynew = rfc.predict(Xnew)\n",
    "#print(ynew)"
   ]
  },
  {
   "cell_type": "code",
   "execution_count": 23,
   "metadata": {},
   "outputs": [
    {
     "data": {
      "text/html": [
       "<div>\n",
       "<style scoped>\n",
       "    .dataframe tbody tr th:only-of-type {\n",
       "        vertical-align: middle;\n",
       "    }\n",
       "\n",
       "    .dataframe tbody tr th {\n",
       "        vertical-align: top;\n",
       "    }\n",
       "\n",
       "    .dataframe thead th {\n",
       "        text-align: right;\n",
       "    }\n",
       "</style>\n",
       "<table border=\"1\" class=\"dataframe\">\n",
       "  <thead>\n",
       "    <tr style=\"text-align: right;\">\n",
       "      <th></th>\n",
       "      <th>DestID</th>\n",
       "      <th>Day</th>\n",
       "      <th>Transport</th>\n",
       "      <th>Flight Distance</th>\n",
       "    </tr>\n",
       "  </thead>\n",
       "  <tbody>\n",
       "    <tr>\n",
       "      <th>119737</th>\n",
       "      <td>0</td>\n",
       "      <td>3</td>\n",
       "      <td>1</td>\n",
       "      <td>811.086195</td>\n",
       "    </tr>\n",
       "    <tr>\n",
       "      <th>72272</th>\n",
       "      <td>2</td>\n",
       "      <td>2</td>\n",
       "      <td>0</td>\n",
       "      <td>17017.658942</td>\n",
       "    </tr>\n",
       "    <tr>\n",
       "      <th>158154</th>\n",
       "      <td>7</td>\n",
       "      <td>5</td>\n",
       "      <td>0</td>\n",
       "      <td>745.677405</td>\n",
       "    </tr>\n",
       "    <tr>\n",
       "      <th>65426</th>\n",
       "      <td>2</td>\n",
       "      <td>6</td>\n",
       "      <td>0</td>\n",
       "      <td>0.000000</td>\n",
       "    </tr>\n",
       "    <tr>\n",
       "      <th>30074</th>\n",
       "      <td>7</td>\n",
       "      <td>4</td>\n",
       "      <td>1</td>\n",
       "      <td>5541.383076</td>\n",
       "    </tr>\n",
       "  </tbody>\n",
       "</table>\n",
       "</div>"
      ],
      "text/plain": [
       "        DestID  Day  Transport  Flight Distance\n",
       "119737       0    3          1       811.086195\n",
       "72272        2    2          0     17017.658942\n",
       "158154       7    5          0       745.677405\n",
       "65426        2    6          0         0.000000\n",
       "30074        7    4          1      5541.383076"
      ]
     },
     "execution_count": 23,
     "metadata": {},
     "output_type": "execute_result"
    }
   ],
   "source": [
    "X_test.head()"
   ]
  },
  {
   "cell_type": "code",
   "execution_count": 24,
   "metadata": {},
   "outputs": [
    {
     "data": {
      "text/plain": [
       "119737    -4\n",
       "72272     -2\n",
       "158154   -10\n",
       "65426     -1\n",
       "30074     -2\n",
       "Name: Car Wait, dtype: int64"
      ]
     },
     "execution_count": 24,
     "metadata": {},
     "output_type": "execute_result"
    }
   ],
   "source": [
    "y_test.head()"
   ]
  },
  {
   "cell_type": "code",
   "execution_count": 25,
   "metadata": {},
   "outputs": [],
   "source": [
    "temp_DestID = list(X_test['DestID'])\n",
    "temp_Day = list(X_test['Day'])\n",
    "temp_Transport = list(X_test['Transport'])\n",
    "temp_Flight_Distance = list(X_test['Flight Distance'])\n",
    "\n",
    "temp_y = list(y_test)\n",
    "differences = 0\n",
    "offby=[0,0,0,0,0,0]\n",
    "\n",
    "for i in range(len(y_test)):\n",
    "    temp = rfc.predict([[temp_DestID[i],temp_Day[i],temp_Transport[i],temp_Flight_Distance[i]]])\n",
    "    off = abs((temp-temp_y[i]))\n",
    "    differences += off\n",
    "    if(off==0):\n",
    "        offby[0]+=1\n",
    "    elif(off==1):\n",
    "        offby[1]+=1\n",
    "    elif(off==2):\n",
    "        offby[2]+=1\n",
    "    elif(off<=5):\n",
    "        offby[3]+=1\n",
    "    elif(off<=10):\n",
    "        offby[4]+=1\n",
    "    else:\n",
    "        offby[5]+=1"
   ]
  },
  {
   "cell_type": "code",
   "execution_count": 26,
   "metadata": {},
   "outputs": [
    {
     "name": "stdout",
     "output_type": "stream",
     "text": [
      "[0.300475]\n"
     ]
    }
   ],
   "source": [
    "print(differences/len(y_test))"
   ]
  },
  {
   "cell_type": "code",
   "execution_count": 27,
   "metadata": {},
   "outputs": [
    {
     "name": "stdout",
     "output_type": "stream",
     "text": [
      "[31235, 6380, 1634, 751, 0, 0]\n"
     ]
    }
   ],
   "source": [
    "print(offby)"
   ]
  },
  {
   "cell_type": "code",
   "execution_count": 28,
   "metadata": {
    "scrolled": false
   },
   "outputs": [
    {
     "name": "stdout",
     "output_type": "stream",
     "text": [
      "Off by 0: 78.087500%\n",
      "Off by 1: 15.950000%\n",
      "Off by 2: 4.085000%\n",
      "Off by 3: 1.877500%\n",
      "Off by 4: 0.000000%\n",
      "Off by 5: 0.000000%\n"
     ]
    }
   ],
   "source": [
    "count = 0\n",
    "for i in offby:\n",
    "    print(\"Off by %d: %f%%\"% (count, i/len(y_test)*100))\n",
    "    count+=1"
   ]
  },
  {
   "cell_type": "code",
   "execution_count": 29,
   "metadata": {},
   "outputs": [
    {
     "name": "stdout",
     "output_type": "stream",
     "text": [
      "0.781475\n",
      "0.7814\n",
      "0.7816\n",
      "0.78055\n",
      "0.78095\n",
      "0.780975\n",
      "0.781125\n",
      "0.78075\n",
      "0.779675\n",
      "0.78195\n",
      "0.781125\n",
      "0.781025\n",
      "0.780525\n",
      "0.781025\n",
      "0.78215\n",
      "0.781875\n",
      "0.7814\n",
      "0.781425\n",
      "0.78105\n"
     ]
    }
   ],
   "source": [
    "for i in range(1,20,1):\n",
    "    rfc = RandomForestClassifier(n_estimators=i)\n",
    "    rfc.fit(X_train, y_train)\n",
    "    pred_rfc = rfc.predict(X_test)\n",
    "    print(accuracy_score(y_test, pred_rfc))"
   ]
  },
  {
   "cell_type": "code",
   "execution_count": null,
   "metadata": {},
   "outputs": [],
   "source": []
  }
 ],
 "metadata": {
  "colab": {
   "collapsed_sections": [],
   "name": "Untitled1.ipynb",
   "provenance": []
  },
  "kernelspec": {
   "display_name": "Python 3",
   "language": "python",
   "name": "python3"
  },
  "language_info": {
   "codemirror_mode": {
    "name": "ipython",
    "version": 3
   },
   "file_extension": ".py",
   "mimetype": "text/x-python",
   "name": "python",
   "nbconvert_exporter": "python",
   "pygments_lexer": "ipython3",
   "version": "3.8.5"
  }
 },
 "nbformat": 4,
 "nbformat_minor": 1
}
